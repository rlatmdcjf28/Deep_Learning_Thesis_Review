{
 "cells": [
  {
   "cell_type": "markdown",
   "id": "678bfb88",
   "metadata": {},
   "source": [
    "# 🚝 VGG16\n",
    "\n",
    "### 🛤 paper link : https://arxiv.org/abs/1409.1556\n",
    "### 🛤 model structure\n",
    "+ ### 다음 표는 저자가 제안하는 ConvNet의 구성 표이다.\n",
    "+ ### configuration의 깊이는 왼쪽(A)에서부터 오른쪽(E)으로 증가한다.\n",
    "+ ### Convolutional layer parameter는 다음과 같이 표시된다.<br/><br/>\"conv[receptive_field_size]-[number of channels]\"\n",
    "+ ### ReLU 활성화함수는 간결함을 위해 표기하지 않는다.\n",
    "#### ![스크린샷, 2023-07-01 19-30-19](https://github.com/rlatmdcjf28/Deep_Learning_Thesis_Review/assets/138289951/e71a2075-7f7d-4f88-bb86-bebdc696ccb8)\n"
   ]
  }
 ],
 "metadata": {
  "kernelspec": {
   "display_name": "Python 3 (ipykernel)",
   "language": "python",
   "name": "python3"
  },
  "language_info": {
   "codemirror_mode": {
    "name": "ipython",
    "version": 3
   },
   "file_extension": ".py",
   "mimetype": "text/x-python",
   "name": "python",
   "nbconvert_exporter": "python",
   "pygments_lexer": "ipython3",
   "version": "3.8.10"
  }
 },
 "nbformat": 4,
 "nbformat_minor": 5
}
