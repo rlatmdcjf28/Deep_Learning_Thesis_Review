{
 "cells": [
  {
   "cell_type": "markdown",
   "id": "678bfb88",
   "metadata": {},
   "source": [
    "# 🚝 VGG16\n",
    "\n",
    "### 🛤 paper link : https://arxiv.org/abs/1409.1556\n",
    "### 🛤 model structure(Table1, 2)\n",
    "+ ### 다음 표는 저자가 제안하는 ConvNet의 구성 표이다.\n",
    "+ ### configuration의 깊이는 왼쪽(A)에서부터 오른쪽(E)으로 증가한다.\n",
    "+ ### Convolutional layer parameter는 다음과 같이 표시된다.<br/><br/>\"conv[receptive_field_size]-[number of channels]\"\n",
    "+ ### ReLU 활성화함수는 간결함을 위해 표기하지 않는다.\n",
    "\n",
    "<img src=\"https://github.com/rlatmdcjf28/Deep_Learning_Thesis_Review/assets/138289951/d8fdf89e-276b-4ef3-9bda-5a4f61884ea5\" width=\"700\" height=\"700\">\n",
    "\n",
    "<img src='https://github.com/rlatmdcjf28/Deep_Learning_Thesis_Review/assets/138289951/c43d581c-70cb-4e2a-ac3c-dbd5962dfafe' width='500' height='400'>\n",
    "\n",
    "<img src='https://github.com/rlatmdcjf28/Deep_Learning_Thesis_Review/assets/138289951/e2101f1d-a722-4606-bc39-b143c91054c0' width=\"600\" height=\"600\">"
   ]
  },
  {
   "cell_type": "markdown",
   "id": "7002cc8d",
   "metadata": {},
   "source": [
    "<img src='https://github.com/rlatmdcjf28/Deep_Learning_Thesis_Review/assets/138289951/46944394-c6ed-4199-84c6-b2d953e1853e' widhth='400' height='400'>"
   ]
  },
  {
   "cell_type": "markdown",
   "id": "d5e32869",
   "metadata": {},
   "source": [
    "<img src='https://github.com/rlatmdcjf28/Deep_Learning_Thesis_Review/assets/138289951/0a423fb0-1e9f-46f4-8bf9-dc8c5f9fde0f' widhth='400' height='400'>"
   ]
  },
  {
   "cell_type": "markdown",
   "id": "246ea41e",
   "metadata": {},
   "source": [
    "<img src='https://github.com/rlatmdcjf28/Deep_Learning_Thesis_Review/assets/138289951/9fcfe4f1-d0af-423c-b40d-9b0d80948631' widhth='400' height='400'>"
   ]
  },
  {
   "cell_type": "markdown",
   "id": "8bb41fb2",
   "metadata": {},
   "source": [
    "<img src='https://github.com/rlatmdcjf28/Deep_Learning_Thesis_Review/assets/138289951/56b18d79-27a1-4706-b807-c08e9fd34a36' widhth='400' height='400'>"
   ]
  },
  {
   "cell_type": "markdown",
   "id": "2f583c45",
   "metadata": {},
   "source": [
    "<img src='https://github.com/rlatmdcjf28/Deep_Learning_Thesis_Review/assets/138289951/13e09bbc-46d2-48c5-b60a-1b641e4d234e' widhth='200' height='200'>"
   ]
  }
 ],
 "metadata": {
  "kernelspec": {
   "display_name": "Python 3 (ipykernel)",
   "language": "python",
   "name": "python3"
  },
  "language_info": {
   "codemirror_mode": {
    "name": "ipython",
    "version": 3
   },
   "file_extension": ".py",
   "mimetype": "text/x-python",
   "name": "python",
   "nbconvert_exporter": "python",
   "pygments_lexer": "ipython3",
   "version": "3.8.10"
  }
 },
 "nbformat": 4,
 "nbformat_minor": 5
}
